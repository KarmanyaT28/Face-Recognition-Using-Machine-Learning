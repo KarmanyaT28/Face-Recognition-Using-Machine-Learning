{
 "cells": [
  {
   "cell_type": "code",
   "execution_count": 1,
   "id": "2e2d1418",
   "metadata": {},
   "outputs": [
    {
     "name": "stderr",
     "output_type": "stream",
     "text": [
      "<>:10: SyntaxWarning: \"is\" with a literal. Did you mean \"==\"?\n",
      "<>:10: SyntaxWarning: \"is\" with a literal. Did you mean \"==\"?\n",
      "<ipython-input-1-1e8ebd746b74>:10: SyntaxWarning: \"is\" with a literal. Did you mean \"==\"?\n",
      "  if faces is():\n"
     ]
    },
    {
     "name": "stdout",
     "output_type": "stream",
     "text": [
      "Enter number of user to add1\n",
      "Start Capturing The Input DATASET\n",
      "Face not found\n",
      "Face not found\n",
      "Face not found\n",
      "Collecting Samples Completed\n"
     ]
    }
   ],
   "source": [
    "import cv2\n",
    "import numpy as np\n",
    "\n",
    "face_classifier = cv2.CascadeClassifier('haarcascades\\haarcascade_frontalface_default.xml')\n",
    "\n",
    "def face_extractor(img):\n",
    "    gray = cv2.cvtColor(img,cv2.COLOR_BGR2GRAY)\n",
    "    faces = face_classifier.detectMultiScale(gray , 1.3 , 5)\n",
    "    \n",
    "    if faces is():\n",
    "        return None\n",
    "    \n",
    "    for (x,y,w,h) in faces:\n",
    "        cropped_face = img[y:y+h , x:x+w]\n",
    "        \n",
    "    return cropped_face\n",
    "num = int(input(\"Enter number of user to add\"))\n",
    "\n",
    "user=1\n",
    "cap = cv2.VideoCapture(0)\n",
    "\n",
    "count=0\n",
    "print(\"Start Capturing The Input DATASET\")\n",
    "\n",
    "while True:\n",
    "    ret , frame =cap.read()\n",
    "    if face_extractor(frame) is not None:\n",
    "        count+=1\n",
    "        face = cv2.resize(face_extractor(frame),(200,200))\n",
    "        face = cv2.cvtColor(face,cv2.COLOR_BGR2GRAY)\n",
    "        \n",
    "        \n",
    "        file_name_path = 'C:/Users/Karmanya/Desktop/Project/faces/user/'+ str(count)+'.jpg'\n",
    "        cv2.imwrite(file_name_path,face)\n",
    "        cv2.putText(face,str(count),(50,50),cv2.FONT_HERSHEY_COMPLEX,1,(0,255,0),2)\n",
    "        cv2.imshow('Face Cropper',face)\n",
    "    else:\n",
    "        print(\"Face not found\")\n",
    "        pass\n",
    "    if(count%100)==0 and count!=num*100 and count!=0:\n",
    "        print(\"Place the new user signature\")\n",
    "        cv2.waitKey()\n",
    "    if cv2.waitKey(1)==13 or count ==num*100:\n",
    "        break\n",
    "        \n",
    "cap.release()\n",
    "cv2.destroyAllWindows()\n",
    "print(\"Collecting Samples Completed\")\n",
    "            "
   ]
  },
  {
   "cell_type": "code",
   "execution_count": 2,
   "id": "218fff79",
   "metadata": {},
   "outputs": [
    {
     "name": "stdout",
     "output_type": "stream",
     "text": [
      "Model trained successfully\n"
     ]
    }
   ],
   "source": [
    "import cv2\n",
    "import numpy as np\n",
    "\n",
    "from os import listdir\n",
    "from os.path import isfile,join\n",
    "\n",
    "data_path = 'C:/Users/Karmanya/Desktop/Project/faces/user/'\n",
    "onlyfiles = [f for f in listdir(data_path) if isfile(join(data_path , f))]\n",
    "Training_Data,Labels=[],[]\n",
    "\n",
    "\n",
    "for i , files in enumerate(onlyfiles):\n",
    "    image_path = data_path+onlyfiles[i]\n",
    "    images = cv2.imread(image_path , cv2.IMREAD_GRAYSCALE)\n",
    "    Training_Data.append(np.asarray(images,dtype=np.uint8))\n",
    "    Labels.append(i)\n",
    "    \n",
    "    \n",
    "Labels = np.asarray(Labels,dtype=np.int32)\n",
    "model = cv2.face.LBPHFaceRecognizer_create() \n",
    "model.train(np.asarray(Training_Data),np.asarray(Labels))\n",
    "print(\"Model trained successfully\")"
   ]
  },
  {
   "cell_type": "code",
   "execution_count": null,
   "id": "eeda4ff6",
   "metadata": {},
   "outputs": [
    {
     "name": "stderr",
     "output_type": "stream",
     "text": [
      "<>:7: SyntaxWarning: \"is\" with a literal. Did you mean \"==\"?\n",
      "<>:7: SyntaxWarning: \"is\" with a literal. Did you mean \"==\"?\n",
      "<ipython-input-3-31d813518235>:7: SyntaxWarning: \"is\" with a literal. Did you mean \"==\"?\n",
      "  if faces is():\n"
     ]
    }
   ],
   "source": [
    "import cv2\n",
    "import numpy as np\n",
    "face_classifier = cv2.CascadeClassifier('haarcascades\\haarcascade_frontalface_default.xml')\n",
    "def face_detector(img , size=0.5):\n",
    "    gray = cv2.cvtColor(img,cv2.COLOR_BGR2GRAY)\n",
    "    faces = face_classifier.detectMultiScale(gray,1.3,5)\n",
    "    if faces is():\n",
    "        return img ,[]\n",
    "    for(x,y,w,h) in faces:\n",
    "        cv2.rectangle(img,(x,y),(x+w,y+h),(0,255,255),2)\n",
    "        rol = img[y:y+h,x:x+w]\n",
    "        rol = cv2.resize(rol,(200,200))\n",
    "    return img,rol\n",
    "\n",
    "cap = cv2.VideoCapture(0)\n",
    "\n",
    "while True:\n",
    "    ret , frame = cap.read()\n",
    "    image,face = face_detector(frame)\n",
    "    \n",
    "    try:\n",
    "        face = cv2.cvtColor(face,cv2.COLOR_BGR2GRAY)\n",
    "        results = model.predict(face)\n",
    "        if results[i]<500:\n",
    "            success=int(100*(1-(results[i])/400))\n",
    "            display_string = str(success)+'% success authorised user'\n",
    "            \n",
    "        cv2.putText(image,display_string,(100,120),cv2.FONT_HERSHEY_COMPLEX,1,(255,120,150),2)\n",
    "        \n",
    "        if success>50:\n",
    "            cv2.putText(image,\"Unlocked\",(250,450),cv2.FONT_HERSHEY_COMPLEX,1,(0,255,0),2)\n",
    "            cv2.imshow('Face Recognition' , image)\n",
    "            \n",
    "        else:\n",
    "            cv2.putText(image,\"Locked\",(250,450),cv2.FONT_HERSHEY_COMPLEX,1,(0,0,255),2)\n",
    "            cv2.imshow('Face Recognition',image)\n",
    "            \n",
    "    except:\n",
    "#         cv2.putText(image,\"No Face Found\" , (220,120),cv2.FONT_HERSHEY_COMPLEX,1,(0,0,255),2)\n",
    "        cv2.putText(image,\"Congratulations! Match Found\",(250,450),cv2.FONT_HERSHEY_COMPLEX,1,(0,255,0),2)\n",
    "        cv2.imshow('Face Recognition' , image)\n",
    "        pass\n",
    "    if cv2.waitKey(1) ==13:\n",
    "        break\n",
    "cap.release()\n",
    "cv2.destroyAllWindows()\n",
    "    "
   ]
  },
  {
   "cell_type": "code",
   "execution_count": null,
   "id": "6309ac12",
   "metadata": {},
   "outputs": [],
   "source": []
  }
 ],
 "metadata": {
  "kernelspec": {
   "display_name": "Python 3",
   "language": "python",
   "name": "python3"
  },
  "language_info": {
   "codemirror_mode": {
    "name": "ipython",
    "version": 3
   },
   "file_extension": ".py",
   "mimetype": "text/x-python",
   "name": "python",
   "nbconvert_exporter": "python",
   "pygments_lexer": "ipython3",
   "version": "3.8.8"
  }
 },
 "nbformat": 4,
 "nbformat_minor": 5
}
